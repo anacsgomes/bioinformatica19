{
 "cells": [
  {
   "cell_type": "markdown",
   "id": "86c64e02",
   "metadata": {},
   "source": [
    "Análise da sequência e das features presentes no NCBI para o gene WFS1.\n",
    "\n",
    "1.Inicialmente, com o objetivo de obter a sequência nucleotídica do gene WFS1, o código permitirá retornar todos os ID´s das sequências nucleotídicas associadas ao gene WFS1, para o ser humano. Entre estas, irá ser retornada a sequência da qual retiraremos o GenBank e consequentemente, todas as informações importantes sobre este gene. Assim, recorrendo ao Bio.Entrez package, foram usados os comandos Entrez.esearch que permite pesquisar, em particular o gene WFS1 do Homo Sapiens, e o comando Entrez.read que irá retornar os resultados das funções acima efetuadas. Obtive-se uma lista de 20 diferentes Id´s."
   ]
  },
  {
   "cell_type": "code",
   "execution_count": 1,
   "id": "87a17577",
   "metadata": {},
   "outputs": [
    {
     "data": {
      "text/plain": [
       "['NM_001145853.1', 'NM_006005.3', 'NG_011700.1', 'NC_060928.1', 'NC_000004.12', 'MT832014.1', 'MT832013.1', 'MT832012.1', 'MT832011.1', 'MT832010.1', 'KP744537.1', 'EU176760.1', 'KU178396.1', 'KU178395.1', 'CM000255.1', 'CH471131.2', 'AB839161.1', 'AB839160.1', 'KC890796.1', 'AY417516.1']"
      ]
     },
     "execution_count": 1,
     "metadata": {},
     "output_type": "execute_result"
    }
   ],
   "source": [
    "from Bio import Entrez\n",
    "\n",
    "Entrez.email=\"grupo19@gmail.com\"\n",
    "\n",
    "Entrez.tool='Demoscript'\n",
    "handle=Entrez.esearch(db=\"nucleotide\", term=\"Homo sapiens[Orgn] AND WFS1[Gene]\",idtype=\"acc\")\n",
    "record=Entrez.read(handle)\n",
    "record[\"Count\"]\n",
    "record[\"IdList\"] "
   ]
  },
  {
   "cell_type": "markdown",
   "id": "4358cb4e",
   "metadata": {},
   "source": [
    "Usando a sequência nucleotídica pretendida: NG_011700.1, usou-se o comando Entrez.efetch, novamente do Bio.Entrez package, que permite recuperar registros no formato solicitado, neste caso, GenBank. De seguida fez-se o print deste ficheiro em GenBank, representativo do gene WFS1 no organismo humano."
   ]
  },
  {
   "cell_type": "code",
   "execution_count": 24,
   "id": "c6813abc",
   "metadata": {},
   "outputs": [
    {
     "name": "stdout",
     "output_type": "stream",
     "text": [
      "LOCUS       NC_000004          190214555 bp    DNA     linear   CON 06-APR-2022\n",
      "DEFINITION  Homo sapiens chromosome 4, GRCh38.p14 Primary Assembly.\n",
      "ACCESSION   NC_000004\n",
      "VERSION     NC_000004.12\n",
      "DBLINK      BioProject: PRJNA168\n",
      "            Assembly: GCF_000001405.40\n",
      "KEYWORDS    RefSeq.\n",
      "SOURCE      Homo sapiens (human)\n",
      "  ORGANISM  Homo sapiens\n",
      "            Eukaryota; Metazoa; Chordata; Craniata; Vertebrata; Euteleostomi;\n",
      "            Mammalia; Eutheria; Euarchontoglires; Primates; Haplorrhini;\n",
      "            Catarrhini; Hominidae; Homo.\n",
      "REFERENCE   1  (bases 1 to 190214555)\n",
      "  AUTHORS   Hillier,L.W., Graves,T.A., Fulton,R.S., Fulton,L.A., Pepin,K.H.,\n",
      "            Minx,P., Wagner-McPherson,C., Layman,D., Wylie,K., Sekhon,M.,\n",
      "            Becker,M.C., Fewell,G.A., Delehaunty,K.D., Miner,T.L., Nash,W.E.,\n",
      "            Kremitzki,C., Oddy,L., Du,H., Sun,H., Bradshaw-Cordum,H., Ali,J.,\n",
      "            Carter,J., Cordes,M., Harris,A., Isak,A., van Brunt,A., Nguyen,C.,\n",
      "            Du,F., Courtney,L., Kalicki,J., Ozersky,P., Abbott,S.,\n",
      "            Armstrong,J., Belter,E.A., Caruso,L., Cedroni,M., Cotton,M.,\n",
      "            Davidson,T., Desai,A., Elliott,G., Erb,T., Fronick,C., Gaige,T.,\n",
      "            Haakenson,W., Haglund,K., Holmes,A., Harkins,R., Kim,K.,\n",
      "            Kruchowski,S.S., Strong,C.M., Grewal,N., Goyea,E., Hou,S., Levy,A.,\n",
      "            Martinka,S., Mead,K., McLellan,M.D., Meyer,R., Randall-Maher,J.,\n",
      "            Tomlinson,C., Dauphin-Kohlberg,S., Kozlowicz-Reilly,A., Shah,N.,\n",
      "            Swearengen-Shahid,S., Snider,J., Strong,J.T., Thompson,J.,\n",
      "            Yoakum,M., Leonard,S., Pearman,C., Trani,L., Radionenko,M.,\n",
      "            Waligorski,J.E., Wang,C., Rock,S.M., Tin-Wollam,A.M., Maupin,R.,\n",
      "            Latreille,P., Wendl,M.C., Yang,S.P., Pohl,C., Wallis,J.W.,\n",
      "            Spieth,J., Bieri,T.A., Berkowicz,N., Nelson,J.O., Osborne,J.,\n",
      "            Ding,L., Meyer,R., Sabo,A., Shotland,Y., Sinha,P., Wohldmann,P.E.,\n",
      "            Cook,L.L., Hickenbotham,M.T., Eldred,J., Williams,D., Jones,T.A.,\n",
      "            She,X., Ciccarelli,F.D., Izaurralde,E., Taylor,J., Schmutz,J.,\n",
      "            Myers,R.M., Cox,D.R., Huang,X., McPherson,J.D., Mardis,E.R.,\n",
      "            Clifton,S.W., Warren,W.C., Chinwalla,A.T., Eddy,S.R., Marra,M.A.,\n",
      "            Ovcharenko,I., Furey,T.S., Miller,W., Eichler,E.E., Bork,P.,\n",
      "            Suyama,M., Torrents,D., Waterston,R.H. and Wilson,R.K.\n",
      "  TITLE     Generation and annotation of the DNA sequences of human chromosomes\n",
      "            2 and 4\n",
      "  JOURNAL   Nature 434 (7034), 724-731 (2005)\n",
      "   PUBMED   15815621\n",
      "REFERENCE   2  (bases 1 to 190214555)\n",
      "  CONSRTM   International Human Genome Sequencing Consortium\n",
      "  TITLE     Finishing the euchromatic sequence of the human genome\n",
      "  JOURNAL   Nature 431 (7011), 931-945 (2004)\n",
      "   PUBMED   15496913\n",
      "REFERENCE   3  (bases 1 to 190214555)\n",
      "  AUTHORS   Lander,E.S., Linton,L.M., Birren,B., Nusbaum,C., Zody,M.C.,\n",
      "            Baldwin,J., Devon,K., Dewar,K., Doyle,M., FitzHugh,W., Funke,R.,\n",
      "            Gage,D., Harris,K., Heaford,A., Howland,J., Kann,L., Lehoczky,J.,\n",
      "            LeVine,R., McEwan,P., McKernan,K., Meldrim,J., Mesirov,J.P.,\n",
      "            Miranda,C., Morris,W., Naylor,J., Raymond,C., Rosetti,M.,\n",
      "            Santos,R., Sheridan,A., Sougnez,C., Stange-Thomann,N.,\n",
      "            Stojanovic,N., Subramanian,A., Wyman,D., Rogers,J., Sulston,J.,\n",
      "            Ainscough,R., Beck,S., Bentley,D., Burton,J., Clee,C., Carter,N.,\n",
      "            Coulson,A., Deadman,R., Deloukas,P., Dunham,A., Dunham,I.,\n",
      "            Durbin,R., French,L., Grafham,D., Gregory,S., Hubbard,T.,\n",
      "            Humphray,S., Hunt,A., Jones,M., Lloyd,C., McMurray,A., Matthews,L.,\n",
      "            Mercer,S., Milne,S., Mullikin,J.C., Mungall,A., Plumb,R., Ross,M.,\n",
      "            Shownkeen,R., Sims,S., Waterston,R.H., Wilson,R.K., Hillier,L.W.,\n",
      "            McPherson,J.D., Marra,M.A., Mardis,E.R., Fulton,L.A.,\n",
      "            Chinwalla,A.T., Pepin,K.H., Gish,W.R., Chissoe,S.L., Wendl,M.C.,\n",
      "            Delehaunty,K.D., Miner,T.L., Delehaunty,A., Kramer,J.B., Cook,L.L.,\n",
      "            Fulton,R.S., Johnson,D.L., Minx,P.J., Clifton,S.W., Hawkins,T.,\n",
      "            Branscomb,E., Predki,P., Richardson,P., Wenning,S., Slezak,T.,\n",
      "            Doggett,N., Cheng,J.F., Olsen,A., Lucas,S., Elkin,C.,\n",
      "            Uberbacher,E., Frazier,M., Gibbs,R.A., Muzny,D.M., Scherer,S.E.,\n",
      "            Bouck,J.B., Sodergren,E.J., Worley,K.C., Rives,C.M., Gorrell,J.H.,\n",
      "            Metzker,M.L., Naylor,S.L., Kucherlapati,R.S., Nelson,D.L.,\n",
      "            Weinstock,G.M., Sakaki,Y., Fujiyama,A., Hattori,M., Yada,T.,\n",
      "            Toyoda,A., Itoh,T., Kawagoe,C., Watanabe,H., Totoki,Y., Taylor,T.,\n",
      "            Weissenbach,J., Heilig,R., Saurin,W., Artiguenave,F., Brottier,P.,\n",
      "            Bruls,T., Pelletier,E., Robert,C., Wincker,P., Smith,D.R.,\n",
      "            Doucette-Stamm,L., Rubenfield,M., Weinstock,K., Lee,H.M.,\n",
      "            Dubois,J., Rosenthal,A., Platzer,M., Nyakatura,G., Taudien,S.,\n",
      "            Rump,A., Yang,H., Yu,J., Wang,J., Huang,G., Gu,J., Hood,L.,\n",
      "            Rowen,L., Madan,A., Qin,S., Davis,R.W., Federspiel,N.A.,\n",
      "            Abola,A.P., Proctor,M.J., Myers,R.M., Schmutz,J., Dickson,M.,\n",
      "            Grimwood,J., Cox,D.R., Olson,M.V., Kaul,R., Raymond,C., Shimizu,N.,\n",
      "            Kawasaki,K., Minoshima,S., Evans,G.A., Athanasiou,M., Schultz,R.,\n",
      "            Roe,B.A., Chen,F., Pan,H., Ramser,J., Lehrach,H., Reinhardt,R.,\n",
      "            McCombie,W.R., de la Bastide,M., Dedhia,N., Blocker,H.,\n",
      "            Hornischer,K., Nordsiek,G., Agarwala,R., Aravind,L., Bailey,J.A.,\n",
      "            Bateman,A., Batzoglou,S., Birney,E., Bork,P., Brown,D.G.,\n",
      "            Burge,C.B., Cerutti,L., Chen,H.C., Church,D., Clamp,M.,\n",
      "            Copley,R.R., Doerks,T., Eddy,S.R., Eichler,E.E., Furey,T.S.,\n",
      "            Galagan,J., Gilbert,J.G., Harmon,C., Hayashizaki,Y., Haussler,D.,\n",
      "            Hermjakob,H., Hokamp,K., Jang,W., Johnson,L.S., Jones,T.A.,\n",
      "            Kasif,S., Kaspryzk,A., Kennedy,S., Kent,W.J., Kitts,P.,\n",
      "            Koonin,E.V., Korf,I., Kulp,D., Lancet,D., Lowe,T.M., McLysaght,A.,\n",
      "            Mikkelsen,T., Moran,J.V., Mulder,N., Pollara,V.J., Ponting,C.P.,\n",
      "            Schuler,G., Schultz,J., Slater,G., Smit,A.F., Stupka,E.,\n",
      "            Szustakowski,J., Thierry-Mieg,D., Thierry-Mieg,J., Wagner,L.,\n",
      "            Wallis,J., Wheeler,R., Williams,A., Wolf,Y.I., Wolfe,K.H.,\n",
      "            Yang,S.P., Yeh,R.F., Collins,F., Guyer,M.S., Peterson,J.,\n",
      "            Felsenfeld,A., Wetterstrand,K.A., Patrinos,A., Morgan,M.J., de\n",
      "            Jong,P., Catanese,J.J., Osoegawa,K., Shizuya,H., Choi,S. and\n",
      "            Chen,Y.J.\n",
      "  CONSRTM   International Human Genome Sequencing Consortium\n",
      "  TITLE     Initial sequencing and analysis of the human genome\n",
      "  JOURNAL   Nature 409 (6822), 860-921 (2001)\n",
      "   PUBMED   11237011\n",
      "  REMARK    Erratum:[Nature 2001 Aug 2;412(6846):565]\n",
      "COMMENT     REFSEQ INFORMATION: The reference sequence is identical to\n",
      "            CM000666.2.\n",
      "            \n",
      "            On Feb 3, 2014 this sequence version replaced NC_000004.11.\n",
      "            Assembly Name: GRCh38.p14 Primary Assembly\n",
      "            The DNA sequence is composed of genomic sequence, primarily\n",
      "            finished clones that were sequenced as part of the Human Genome\n",
      "            Project. PCR products and WGS shotgun sequence have been added\n",
      "            where necessary to fill gaps or correct errors. All such additions\n",
      "            are manually curated by GRC staff. For more information see:\n",
      "            https://genomereference.org.\n",
      "            \n",
      "            ##Genome-Annotation-Data-START##\n",
      "            Annotation Provider         :: NCBI\n",
      "            Annotation Status           :: Full annotation\n",
      "            Annotation Name             :: Homo sapiens Annotation Release 110\n",
      "            Annotation Version          :: 110\n",
      "            Annotation Pipeline         :: NCBI eukaryotic genome annotation\n",
      "                                           pipeline\n",
      "            Annotation Software Version :: 9.0\n",
      "            Annotation Method           :: Best-placed RefSeq; Gnomon\n",
      "            Features Annotated          :: Gene; mRNA; CDS; ncRNA\n",
      "            ##Genome-Annotation-Data-END##\n",
      "FEATURES             Location/Qualifiers\n",
      "     source          1..190214555\n",
      "                     /organism=\"Homo sapiens\"\n",
      "                     /mol_type=\"genomic DNA\"\n",
      "                     /db_xref=\"taxon:9606\"\n",
      "                     /chromosome=\"4\"\n",
      "CONTIG      join(gap(10000),NT_006051.19:1..8787477,gap(19000),\n",
      "            NT_006316.17:1..23002818,gap(13274),NT_022794.11:1..1000447,\n",
      "            gap(6000),NT_006238.12:1..16497908,gap(150000),\n",
      "            NT_037645.2:1..171176,gap(50000),NT_187184.1:1..3861,gap(100),\n",
      "            NT_187185.1:1..2031890,gap(50000),NT_022853.16:1..7084842,\n",
      "            gap(42588),NT_016354.20:1..131283174,gap(10000))\n",
      "//\n",
      "\n",
      "\n"
     ]
    }
   ],
   "source": [
    "from Bio import Entrez\n",
    "\n",
    "Entrez.email = \"grupo19@gmail.com\"\n",
    "\n",
    "handle = Entrez.efetch(db=\"nucleotide\", id=\"NC_000004.12\", rettype=\"gb\", retmode=\"text\")\n",
    "text = handle.read()\n",
    "print(text)"
   ]
  },
  {
   "cell_type": "markdown",
   "id": "d0dd591d",
   "metadata": {},
   "source": [
    "Após ter o ficheiro guardado, o passo seguinte serviu para verificar as anotações correspondentes aos genes de interesse, assim como algumas outras informações, tais como, o Id, o nome, o tamanho e a descrição da sequência nucleotídica. Para isto,usou-se o módulo Bio.SeqIO e o módulo Bio.Entrez. O módulo Bio.SeqIO facilita a análise da dados de entrada e de saída, relativos a sequências."
   ]
  },
  {
   "cell_type": "code",
   "execution_count": 25,
   "id": "c69d10d0",
   "metadata": {},
   "outputs": [
    {
     "data": {
      "text/plain": [
       "<function TextIOWrapper.close()>"
      ]
     },
     "execution_count": 25,
     "metadata": {},
     "output_type": "execute_result"
    }
   ],
   "source": [
    "from Bio import SeqIO\n",
    "from Bio import Entrez\n",
    "\n",
    "Entrez.email=\"grupo19@gmail.com\"\n",
    "\n",
    "handle=Entrez.efetch(db=\"nucleotide\", id=\"NC_000004.12\", rettype=\"gb\", retmode=\"text\")\n",
    "record=SeqIO.read(handle,\"genbank\")\n",
    "handle.close"
   ]
  },
  {
   "cell_type": "markdown",
   "id": "f0ed1fdd",
   "metadata": {},
   "source": [
    "from Bio import SeqIO\n",
    "from Bio import Entrez\n",
    "Entrez.email=\"grupo19@gmail.com\"\n",
    "#identificador da sequencia\n",
    "ID=record.id\n",
    "print(ID)\n",
    "#sequencia\n",
    "nome=record.name\n",
    "print(nome)\n",
    "sequencia=record.seq\n",
    "#print(sequencia)\n",
    "print(len(record.seq))\n",
    "#descriptions\n",
    "description=record.description\n",
    "print(description)"
   ]
  },
  {
   "cell_type": "code",
   "execution_count": 26,
   "id": "caf63af4",
   "metadata": {},
   "outputs": [
    {
     "name": "stdout",
     "output_type": "stream",
     "text": [
      "O Id é: NC_000004.12\n",
      "O nome da sequência é: NC_000004\n",
      "O tamanho da sequência é: 190214555\n",
      "A descricao da sequência nucleotídica é: Homo sapiens chromosome 4, GRCh38.p14 Primary Assembly\n"
     ]
    }
   ],
   "source": [
    "from Bio import SeqIO\n",
    "from Bio import Entrez\n",
    "\n",
    "Entrez.email=\"grupo19@gmail.com\"\n",
    "\n",
    "Id=record.id\n",
    "print('O Id é:', Id)\n",
    "\n",
    "nome=record.name\n",
    "print('O nome da sequência é:',nome)\n",
    "\n",
    "sequencia=record.seq\n",
    "tamanho=len(sequencia)\n",
    "print('O tamanho da sequência é:', tamanho)\n",
    "\n",
    "descricao=record.description\n",
    "print('A descricao da sequência nucleotídica é:', descricao)"
   ]
  },
  {
   "cell_type": "markdown",
   "id": "b2f3b726",
   "metadata": {},
   "source": [
    "Nesta parte retornou-se as anotações, ou seja, um dicionário que contém informações adicionais sobre a sequência. Desta forma, obteviram-se resultados para as anotações de interessse, nomeadamente, para o organismo, para a taxonomia, para o tipo de molécula, para a topologia, para o data file division, para a versão da sequência a, ainda, para a fonte. O código retorna, do dicionário, a chave correspondente."
   ]
  },
  {
   "cell_type": "code",
   "execution_count": 27,
   "id": "b7f23850",
   "metadata": {},
   "outputs": [
    {
     "name": "stdout",
     "output_type": "stream",
     "text": [
      "dict_keys(['molecule_type', 'topology', 'data_file_division', 'date', 'accessions', 'sequence_version', 'keywords', 'source', 'organism', 'taxonomy', 'references', 'comment', 'structured_comment', 'contig'])\n"
     ]
    }
   ],
   "source": [
    "#chaves do dicionário que forma as anotações\n",
    "chaves=record.annotations.keys()\n",
    "print(chaves)"
   ]
  },
  {
   "cell_type": "code",
   "execution_count": 28,
   "id": "a06955e3",
   "metadata": {},
   "outputs": [
    {
     "name": "stdout",
     "output_type": "stream",
     "text": [
      "O organismo é: Homo sapiens\n",
      "A taxonomia é: ['Eukaryota', 'Metazoa', 'Chordata', 'Craniata', 'Vertebrata', 'Euteleostomi', 'Mammalia', 'Eutheria', 'Euarchontoglires', 'Primates', 'Haplorrhini', 'Catarrhini', 'Hominidae', 'Homo']\n",
      "O tipo de molécula é: DNA\n",
      "A topologia é: linear\n",
      "A data file division é: CON\n",
      "A versão da sequencia é: 12\n",
      "A fonte é: Homo sapiens (human)\n"
     ]
    }
   ],
   "source": [
    "organismo=record.annotations[\"organism\"]\n",
    "print('O organismo é:', organismo)\n",
    "\n",
    "taxonomia=record.annotations[\"taxonomy\"]\n",
    "print('A taxonomia é:', taxonomia)\n",
    "\n",
    "tipo=record.annotations[\"molecule_type\"]\n",
    "print('O tipo de molécula é:', tipo)\n",
    "\n",
    "topologia=record.annotations[\"topology\"]\n",
    "print('A topologia é:', topologia)\n",
    "\n",
    "data= record.annotations[\"data_file_division\"]\n",
    "print ('A data file division é:', data)\n",
    "\n",
    "sequencia=record.annotations[\"sequence_version\"]\n",
    "print ('A versão da sequencia é:', sequencia)\n",
    "\n",
    "fonte=record.annotations[\"source\"]\n",
    "print ('A fonte é:', fonte)"
   ]
  },
  {
   "cell_type": "markdown",
   "id": "e8752ee0",
   "metadata": {},
   "source": [
    "4.Adicionalmente, de forma a extrair informações sobre as features, começa-se por extrair do ficheiro em formato GenBank a quantidade de features, com recurso ao len(record.features), a lista de features, o tipo de features e a localização de cada uma delas. Isto é possível recorrendo ao módulo Bio.SeqFeature, e ao SeqIO e Entrez, já apresentados anteriormente."
   ]
  },
  {
   "cell_type": "code",
   "execution_count": 29,
   "id": "2bdc459b",
   "metadata": {},
   "outputs": [
    {
     "name": "stdout",
     "output_type": "stream",
     "text": [
      "[SeqFeature(FeatureLocation(ExactPosition(0), ExactPosition(190214555), strand=1), type='source')]\n"
     ]
    }
   ],
   "source": [
    "from Bio import SeqIO\n",
    "from Bio import Entrez\n",
    "from Bio import SeqFeature\n",
    "\n",
    "Entrez.email=\"grupo19@gmail.com\"\n",
    "\n",
    "features=record.features\n",
    "tipos_de_features=[]\n",
    "localizacao_das_features=[]\n",
    "for f in features:\n",
    "    localizacao_das_features.append(f.location)\n",
    "    if f.type in tipos_de_features:\n",
    "        f=+1\n",
    "    else:\n",
    "        tipos_de_features.append(f.type)\n",
    "        \n",
    "#lista de features\n",
    "print(features)\n",
    "        "
   ]
  },
  {
   "cell_type": "code",
   "execution_count": 9,
   "id": "c4185013",
   "metadata": {},
   "outputs": [
    {
     "name": "stdout",
     "output_type": "stream",
     "text": [
      "Os tipos de features são: ['source', 'gene', 'mRNA', 'exon', 'CDS', 'misc_feature']\n",
      "A localização das features é: [FeatureLocation(ExactPosition(0), ExactPosition(40416), strand=1), FeatureLocation(ExactPosition(5000), ExactPosition(38416), strand=1), CompoundLocation([FeatureLocation(ExactPosition(5000), ExactPosition(5165), strand=1), FeatureLocation(ExactPosition(12601), ExactPosition(12838), strand=1), FeatureLocation(ExactPosition(22243), ExactPosition(22326), strand=1), FeatureLocation(ExactPosition(24137), ExactPosition(24282), strand=1), FeatureLocation(ExactPosition(26347), ExactPosition(26518), strand=1), FeatureLocation(ExactPosition(27067), ExactPosition(27148), strand=1), FeatureLocation(ExactPosition(30191), ExactPosition(30340), strand=1), FeatureLocation(ExactPosition(35807), ExactPosition(38416), strand=1)], 'join'), FeatureLocation(ExactPosition(5000), ExactPosition(5165), strand=1), FeatureLocation(ExactPosition(12601), ExactPosition(12838), strand=1), CompoundLocation([FeatureLocation(ExactPosition(12606), ExactPosition(12838), strand=1), FeatureLocation(ExactPosition(22243), ExactPosition(22326), strand=1), FeatureLocation(ExactPosition(24137), ExactPosition(24282), strand=1), FeatureLocation(ExactPosition(26347), ExactPosition(26518), strand=1), FeatureLocation(ExactPosition(27067), ExactPosition(27148), strand=1), FeatureLocation(ExactPosition(30191), ExactPosition(30340), strand=1), FeatureLocation(ExactPosition(35807), ExactPosition(37619), strand=1)], 'join'), CompoundLocation([FeatureLocation(ExactPosition(12606), ExactPosition(12838), strand=1), FeatureLocation(ExactPosition(22243), ExactPosition(22326), strand=1), FeatureLocation(ExactPosition(24137), ExactPosition(24282), strand=1), FeatureLocation(ExactPosition(26347), ExactPosition(26518), strand=1), FeatureLocation(ExactPosition(27067), ExactPosition(27148), strand=1), FeatureLocation(ExactPosition(30191), ExactPosition(30340), strand=1), FeatureLocation(ExactPosition(35807), ExactPosition(35909), strand=1)], 'join'), CompoundLocation([FeatureLocation(ExactPosition(12606), ExactPosition(12838), strand=1), FeatureLocation(ExactPosition(22243), ExactPosition(22269), strand=1)], 'join'), FeatureLocation(ExactPosition(12606), ExactPosition(12609), strand=1), FeatureLocation(ExactPosition(12693), ExactPosition(12696), strand=1), FeatureLocation(ExactPosition(12699), ExactPosition(12702), strand=1), FeatureLocation(ExactPosition(26355), ExactPosition(26358), strand=1), FeatureLocation(ExactPosition(35885), ExactPosition(35948), strand=1), FeatureLocation(ExactPosition(35963), ExactPosition(36026), strand=1), FeatureLocation(ExactPosition(36149), ExactPosition(36212), strand=1), FeatureLocation(ExactPosition(36224), ExactPosition(36287), strand=1), FeatureLocation(ExactPosition(36338), ExactPosition(36401), strand=1), FeatureLocation(ExactPosition(36431), ExactPosition(36494), strand=1), FeatureLocation(ExactPosition(36530), ExactPosition(36593), strand=1), FeatureLocation(ExactPosition(36632), ExactPosition(36695), strand=1), FeatureLocation(ExactPosition(36710), ExactPosition(36773), strand=1), FeatureLocation(ExactPosition(36839), ExactPosition(36902), strand=1), FeatureLocation(ExactPosition(36926), ExactPosition(36929), strand=1), FeatureLocation(ExactPosition(37181), ExactPosition(37184), strand=1), FeatureLocation(ExactPosition(37553), ExactPosition(37616), strand=1), FeatureLocation(ExactPosition(22243), ExactPosition(22326), strand=1), FeatureLocation(ExactPosition(24137), ExactPosition(24282), strand=1), FeatureLocation(ExactPosition(26347), ExactPosition(26518), strand=1), FeatureLocation(ExactPosition(27067), ExactPosition(27148), strand=1), FeatureLocation(ExactPosition(30191), ExactPosition(30340), strand=1), FeatureLocation(ExactPosition(35807), ExactPosition(38416), strand=1)]\n",
      "Existem 31 features\n"
     ]
    }
   ],
   "source": [
    "#tipos de features\n",
    "print('Os tipos de features são:', tipos_de_features)\n",
    "\n",
    "#posicao das features\n",
    "print('A localização das features é:', localizacao_das_features)\n",
    "\n",
    "#quantidade de features\n",
    "print('Existem', len(record.features), 'features') "
   ]
  },
  {
   "cell_type": "markdown",
   "id": "36807276",
   "metadata": {},
   "source": [
    "5.De seguida identifica-se as sequências codificantes associada a este registo recorrendo à lista de features e ao código seguinte. Através dos “qualifiers” associados, determinou-se ainda qual a proteína codificada e imprimiu-se a sequência da mesma."
   ]
  },
  {
   "cell_type": "code",
   "execution_count": 30,
   "id": "9890e709",
   "metadata": {},
   "outputs": [
    {
     "name": "stdout",
     "output_type": "stream",
     "text": [
      "O id da proteína é ['NP_005996.2']\n",
      "A proteína codificada é ['wolframin']\n",
      "A sequência da proteína codificada é ['MDSNTAPLGPSCPQPPPAPQPQARSRLNATASLEQERSERPRAPGPQAGPGPGVRDAAAPAEPQAQHTRSRERADGTGPTKGDMEIPFEEVLERAKAGDPKAQTEVGKHYLQLAGDTDEELNSCTAVDWLVLAAKQGRREAVKLLRRCLADRRGITSENEREVRQLSSETDLERAVRKAALVMYWKLNPKKKKQVAVAELLENVGQVNEHDGGAQPGPVPKSLQKQRRMLERLVSSESKNYIALDDFVEITKKYAKGVIPSSLFLQDDEDDDELAGKSPEDLPLRLKVVKYPLHAIMEIKEYLIDMASRAGMHWLSTIIPTHHINALIFFFIVSNLTIDFFAFFIPLVIFYLSFISMVICTLKVFQDSKAWENFRTLTDLLLRFEPNLDVEQAEVNFGWNHLEPYAHFLLSVFFVIFSFPIASKDCIPCSELAVITGFFTVTSYLSLSTHAEPYTRRALATEVTAGLLSLLPSMPLNWPYLKVLGQTFITVPVGHLVVLNVSVPCLLYVYLLYLFFRMAQLRNFKGTYCYLVPYLVCFMWCELSVVILLESTGLGLLRASIGYFLFLFALPILVAGLALVGVLQFARWFTSLELTKIAVTVAVCSVPLLLRWWTKASFSVVGMVKSLTRSSMVKLILVWLTAIVLFCWFYVYRSEGMKVYNSTLTWQQYGALCGPRAWKETNMARTQILCSHLEGHRVTWTGRFKYVRVTDIDNSAESAINMLPFFIGDWMRCLYGEAYPACSPGNTSTAEEELCRLKLLAKHPCHIKKFDRYKFEITVGMPFSSGADGSRSREEDDVTKDIVLRASSEFKSVLLSLRQGSLIEFSTILEGRLGSKWPVFELKAISCLNCMAQLSPTRRHVKIEHDWRSTVHGAVKFAFDFFFFPFLSAA']\n"
     ]
    }
   ],
   "source": [
    "from Bio import SeqIO\n",
    "from Bio import Entrez\n",
    "from Bio import SeqFeature\n",
    "\n",
    "Entrez.email=\"grupo19@gmail.com\"\n",
    "\n",
    "featcds=[]\n",
    "numero_cds=0\n",
    "for i in range(len(features)):\n",
    "    if features[i].type==\"CDS\":\n",
    "        featcds.append(i)\n",
    "        numero_cds+=1\n",
    "    for k in featcds:\n",
    "        id_proteina=features[k].qualifiers[\"protein_id\"]\n",
    "        produto=features[k].qualifiers[\"product\"] \n",
    "        translacao=features[k].qualifiers[\"translation\"]\n",
    "\n",
    "#qualifiers associados às sequências codificantes do registo do gene\n",
    "print('O id da proteína é',id_proteina)\n",
    "print('A proteína codificada é', produto) \n",
    "print('A sequência da proteína codificada é', translacao) "
   ]
  },
  {
   "cell_type": "markdown",
   "id": "1ef2a7dc",
   "metadata": {},
   "source": [
    "6.Por fim, apresenta-se o número de genes anotados no registo da feature do tipo : “gene”."
   ]
  },
  {
   "cell_type": "code",
   "execution_count": 31,
   "id": "c2a64c45",
   "metadata": {},
   "outputs": [
    {
     "name": "stdout",
     "output_type": "stream",
     "text": [
      "O número de features do tipo gene é 0\n"
     ]
    }
   ],
   "source": [
    "n_genes=0\n",
    "feat_gene=[]\n",
    "for i in range(len(features)):\n",
    "    if features[i].type==\"gene\":\n",
    "        n_genes=+1\n",
    "        feat_gene.append(i)\n",
    "print('O número de features do tipo gene é', len(feat_gene))\n"
   ]
  }
 ],
 "metadata": {
  "kernelspec": {
   "display_name": "Python 3 (ipykernel)",
   "language": "python",
   "name": "python3"
  },
  "language_info": {
   "codemirror_mode": {
    "name": "ipython",
    "version": 3
   },
   "file_extension": ".py",
   "mimetype": "text/x-python",
   "name": "python",
   "nbconvert_exporter": "python",
   "pygments_lexer": "ipython3",
   "version": "3.9.13"
  }
 },
 "nbformat": 4,
 "nbformat_minor": 5
}
