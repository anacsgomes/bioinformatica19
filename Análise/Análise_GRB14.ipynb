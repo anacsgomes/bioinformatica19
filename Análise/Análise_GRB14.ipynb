{
 "cells": [
  {
   "cell_type": "markdown",
   "id": "2902d2b8",
   "metadata": {},
   "source": [
    "Análise da sequência e das features presentes no NCBI para o gene GRB14.\n",
    "\n",
    "1.Inicialmente, com o objetivo de obter a sequência nucleotídica do gene GRB14, o código permitirá retornar todos os ID´s das sequências nucleotídicas associadas ao gene GRB14, para o ser humano. Entre estas, irá ser retornada a sequência da qual retiraremos o GenBank e consequentemente, todas as informações importantes sobre este gene. Assim, recorrendo ao Bio.Entrez package, foram usados os comandos Entrez.esearch que permite pesquisar, em particular o gene GRB14 do Homo Sapiens, e o comando Entrez.read que irá retornar os resultados das funções acima efetuadas. Obtive-se uma lista de 18 diferentes Id´s."
   ]
  },
  {
   "cell_type": "code",
   "execution_count": 2,
   "id": "754bb3fd",
   "metadata": {},
   "outputs": [
    {
     "data": {
      "text/plain": [
       "['NM_001303422.2', 'NM_004490.3', 'NG_052839.1', 'NC_060926.1', 'NC_000002.12', 'XR_427085.4', 'XM_047444014.1', 'XM_047444013.1', 'XM_011511022.2', 'EU832411.1', 'AC107075.4', 'AC110086.3', 'CM000253.1', 'CH471058.2', 'BC053559.1', 'AY419442.1', 'L76687.1', 'AB527527.1']"
      ]
     },
     "execution_count": 2,
     "metadata": {},
     "output_type": "execute_result"
    }
   ],
   "source": [
    "from Bio import Entrez\n",
    "\n",
    "Entrez.email=\"grupo19@gmail.com\"\n",
    "\n",
    "Entrez.tool='Demoscript'\n",
    "handle=Entrez.esearch(db=\"nucleotide\", term=\"Homo sapiens[Orgn] AND GRB14[Gene]\",idtype=\"acc\")\n",
    "record=Entrez.read(handle)\n",
    "record[\"Count\"]\n",
    "record[\"IdList\"] "
   ]
  },
  {
   "cell_type": "markdown",
   "id": "ca085020",
   "metadata": {},
   "source": [
    "Usando a sequência nucleotídica pretendida: NC_000002.12, usou-se o comando Entrez.efetch, novamente do Bio.Entrez package, que permite recuperar registros no formato solicitado, neste caso, GenBank. De seguida fez-se o print deste ficheiro em GenBank, representativo do gene WFS1 no organismo humano"
   ]
  },
  {
   "cell_type": "code",
   "execution_count": 10,
   "id": "3b4fdcbf",
   "metadata": {},
   "outputs": [
    {
     "name": "stdout",
     "output_type": "stream",
     "text": [
      "LOCUS       NC_000002          242193529 bp    DNA     linear   CON 06-APR-2022\n",
      "DEFINITION  Homo sapiens chromosome 2, GRCh38.p14 Primary Assembly.\n",
      "ACCESSION   NC_000002\n",
      "VERSION     NC_000002.12\n",
      "DBLINK      BioProject: PRJNA168\n",
      "            Assembly: GCF_000001405.40\n",
      "KEYWORDS    RefSeq.\n",
      "SOURCE      Homo sapiens (human)\n",
      "  ORGANISM  Homo sapiens\n",
      "            Eukaryota; Metazoa; Chordata; Craniata; Vertebrata; Euteleostomi;\n",
      "            Mammalia; Eutheria; Euarchontoglires; Primates; Haplorrhini;\n",
      "            Catarrhini; Hominidae; Homo.\n",
      "REFERENCE   1  (bases 1 to 242193529)\n",
      "  AUTHORS   Hillier,L.W., Graves,T.A., Fulton,R.S., Fulton,L.A., Pepin,K.H.,\n",
      "            Minx,P., Wagner-McPherson,C., Layman,D., Wylie,K., Sekhon,M.,\n",
      "            Becker,M.C., Fewell,G.A., Delehaunty,K.D., Miner,T.L., Nash,W.E.,\n",
      "            Kremitzki,C., Oddy,L., Du,H., Sun,H., Bradshaw-Cordum,H., Ali,J.,\n",
      "            Carter,J., Cordes,M., Harris,A., Isak,A., van Brunt,A., Nguyen,C.,\n",
      "            Du,F., Courtney,L., Kalicki,J., Ozersky,P., Abbott,S.,\n",
      "            Armstrong,J., Belter,E.A., Caruso,L., Cedroni,M., Cotton,M.,\n",
      "            Davidson,T., Desai,A., Elliott,G., Erb,T., Fronick,C., Gaige,T.,\n",
      "            Haakenson,W., Haglund,K., Holmes,A., Harkins,R., Kim,K.,\n",
      "            Kruchowski,S.S., Strong,C.M., Grewal,N., Goyea,E., Hou,S., Levy,A.,\n",
      "            Martinka,S., Mead,K., McLellan,M.D., Meyer,R., Randall-Maher,J.,\n",
      "            Tomlinson,C., Dauphin-Kohlberg,S., Kozlowicz-Reilly,A., Shah,N.,\n",
      "            Swearengen-Shahid,S., Snider,J., Strong,J.T., Thompson,J.,\n",
      "            Yoakum,M., Leonard,S., Pearman,C., Trani,L., Radionenko,M.,\n",
      "            Waligorski,J.E., Wang,C., Rock,S.M., Tin-Wollam,A.M., Maupin,R.,\n",
      "            Latreille,P., Wendl,M.C., Yang,S.P., Pohl,C., Wallis,J.W.,\n",
      "            Spieth,J., Bieri,T.A., Berkowicz,N., Nelson,J.O., Osborne,J.,\n",
      "            Ding,L., Meyer,R., Sabo,A., Shotland,Y., Sinha,P., Wohldmann,P.E.,\n",
      "            Cook,L.L., Hickenbotham,M.T., Eldred,J., Williams,D., Jones,T.A.,\n",
      "            She,X., Ciccarelli,F.D., Izaurralde,E., Taylor,J., Schmutz,J.,\n",
      "            Myers,R.M., Cox,D.R., Huang,X., McPherson,J.D., Mardis,E.R.,\n",
      "            Clifton,S.W., Warren,W.C., Chinwalla,A.T., Eddy,S.R., Marra,M.A.,\n",
      "            Ovcharenko,I., Furey,T.S., Miller,W., Eichler,E.E., Bork,P.,\n",
      "            Suyama,M., Torrents,D., Waterston,R.H. and Wilson,R.K.\n",
      "  TITLE     Generation and annotation of the DNA sequences of human chromosomes\n",
      "            2 and 4\n",
      "  JOURNAL   Nature 434 (7034), 724-731 (2005)\n",
      "   PUBMED   15815621\n",
      "REFERENCE   2  (bases 1 to 242193529)\n",
      "  CONSRTM   International Human Genome Sequencing Consortium\n",
      "  TITLE     Finishing the euchromatic sequence of the human genome\n",
      "  JOURNAL   Nature 431 (7011), 931-945 (2004)\n",
      "   PUBMED   15496913\n",
      "REFERENCE   3  (bases 1 to 242193529)\n",
      "  AUTHORS   Lander,E.S., Linton,L.M., Birren,B., Nusbaum,C., Zody,M.C.,\n",
      "            Baldwin,J., Devon,K., Dewar,K., Doyle,M., FitzHugh,W., Funke,R.,\n",
      "            Gage,D., Harris,K., Heaford,A., Howland,J., Kann,L., Lehoczky,J.,\n",
      "            LeVine,R., McEwan,P., McKernan,K., Meldrim,J., Mesirov,J.P.,\n",
      "            Miranda,C., Morris,W., Naylor,J., Raymond,C., Rosetti,M.,\n",
      "            Santos,R., Sheridan,A., Sougnez,C., Stange-Thomann,N.,\n",
      "            Stojanovic,N., Subramanian,A., Wyman,D., Rogers,J., Sulston,J.,\n",
      "            Ainscough,R., Beck,S., Bentley,D., Burton,J., Clee,C., Carter,N.,\n",
      "            Coulson,A., Deadman,R., Deloukas,P., Dunham,A., Dunham,I.,\n",
      "            Durbin,R., French,L., Grafham,D., Gregory,S., Hubbard,T.,\n",
      "            Humphray,S., Hunt,A., Jones,M., Lloyd,C., McMurray,A., Matthews,L.,\n",
      "            Mercer,S., Milne,S., Mullikin,J.C., Mungall,A., Plumb,R., Ross,M.,\n",
      "            Shownkeen,R., Sims,S., Waterston,R.H., Wilson,R.K., Hillier,L.W.,\n",
      "            McPherson,J.D., Marra,M.A., Mardis,E.R., Fulton,L.A.,\n",
      "            Chinwalla,A.T., Pepin,K.H., Gish,W.R., Chissoe,S.L., Wendl,M.C.,\n",
      "            Delehaunty,K.D., Miner,T.L., Delehaunty,A., Kramer,J.B., Cook,L.L.,\n",
      "            Fulton,R.S., Johnson,D.L., Minx,P.J., Clifton,S.W., Hawkins,T.,\n",
      "            Branscomb,E., Predki,P., Richardson,P., Wenning,S., Slezak,T.,\n",
      "            Doggett,N., Cheng,J.F., Olsen,A., Lucas,S., Elkin,C.,\n",
      "            Uberbacher,E., Frazier,M., Gibbs,R.A., Muzny,D.M., Scherer,S.E.,\n",
      "            Bouck,J.B., Sodergren,E.J., Worley,K.C., Rives,C.M., Gorrell,J.H.,\n",
      "            Metzker,M.L., Naylor,S.L., Kucherlapati,R.S., Nelson,D.L.,\n",
      "            Weinstock,G.M., Sakaki,Y., Fujiyama,A., Hattori,M., Yada,T.,\n",
      "            Toyoda,A., Itoh,T., Kawagoe,C., Watanabe,H., Totoki,Y., Taylor,T.,\n",
      "            Weissenbach,J., Heilig,R., Saurin,W., Artiguenave,F., Brottier,P.,\n",
      "            Bruls,T., Pelletier,E., Robert,C., Wincker,P., Smith,D.R.,\n",
      "            Doucette-Stamm,L., Rubenfield,M., Weinstock,K., Lee,H.M.,\n",
      "            Dubois,J., Rosenthal,A., Platzer,M., Nyakatura,G., Taudien,S.,\n",
      "            Rump,A., Yang,H., Yu,J., Wang,J., Huang,G., Gu,J., Hood,L.,\n",
      "            Rowen,L., Madan,A., Qin,S., Davis,R.W., Federspiel,N.A.,\n",
      "            Abola,A.P., Proctor,M.J., Myers,R.M., Schmutz,J., Dickson,M.,\n",
      "            Grimwood,J., Cox,D.R., Olson,M.V., Kaul,R., Raymond,C., Shimizu,N.,\n",
      "            Kawasaki,K., Minoshima,S., Evans,G.A., Athanasiou,M., Schultz,R.,\n",
      "            Roe,B.A., Chen,F., Pan,H., Ramser,J., Lehrach,H., Reinhardt,R.,\n",
      "            McCombie,W.R., de la Bastide,M., Dedhia,N., Blocker,H.,\n",
      "            Hornischer,K., Nordsiek,G., Agarwala,R., Aravind,L., Bailey,J.A.,\n",
      "            Bateman,A., Batzoglou,S., Birney,E., Bork,P., Brown,D.G.,\n",
      "            Burge,C.B., Cerutti,L., Chen,H.C., Church,D., Clamp,M.,\n",
      "            Copley,R.R., Doerks,T., Eddy,S.R., Eichler,E.E., Furey,T.S.,\n",
      "            Galagan,J., Gilbert,J.G., Harmon,C., Hayashizaki,Y., Haussler,D.,\n",
      "            Hermjakob,H., Hokamp,K., Jang,W., Johnson,L.S., Jones,T.A.,\n",
      "            Kasif,S., Kaspryzk,A., Kennedy,S., Kent,W.J., Kitts,P.,\n",
      "            Koonin,E.V., Korf,I., Kulp,D., Lancet,D., Lowe,T.M., McLysaght,A.,\n",
      "            Mikkelsen,T., Moran,J.V., Mulder,N., Pollara,V.J., Ponting,C.P.,\n",
      "            Schuler,G., Schultz,J., Slater,G., Smit,A.F., Stupka,E.,\n",
      "            Szustakowski,J., Thierry-Mieg,D., Thierry-Mieg,J., Wagner,L.,\n",
      "            Wallis,J., Wheeler,R., Williams,A., Wolf,Y.I., Wolfe,K.H.,\n",
      "            Yang,S.P., Yeh,R.F., Collins,F., Guyer,M.S., Peterson,J.,\n",
      "            Felsenfeld,A., Wetterstrand,K.A., Patrinos,A., Morgan,M.J., de\n",
      "            Jong,P., Catanese,J.J., Osoegawa,K., Shizuya,H., Choi,S. and\n",
      "            Chen,Y.J.\n",
      "  CONSRTM   International Human Genome Sequencing Consortium\n",
      "  TITLE     Initial sequencing and analysis of the human genome\n",
      "  JOURNAL   Nature 409 (6822), 860-921 (2001)\n",
      "   PUBMED   11237011\n",
      "  REMARK    Erratum:[Nature 2001 Aug 2;412(6846):565]\n",
      "COMMENT     REFSEQ INFORMATION: The reference sequence is identical to\n",
      "            CM000664.2.\n",
      "            \n",
      "            On Feb 3, 2014 this sequence version replaced NC_000002.11.\n",
      "            Assembly Name: GRCh38.p14 Primary Assembly\n",
      "            The DNA sequence is composed of genomic sequence, primarily\n",
      "            finished clones that were sequenced as part of the Human Genome\n",
      "            Project. PCR products and WGS shotgun sequence have been added\n",
      "            where necessary to fill gaps or correct errors. All such additions\n",
      "            are manually curated by GRC staff. For more information see:\n",
      "            https://genomereference.org.\n",
      "            \n",
      "            ##Genome-Annotation-Data-START##\n",
      "            Annotation Provider         :: NCBI\n",
      "            Annotation Status           :: Full annotation\n",
      "            Annotation Name             :: Homo sapiens Annotation Release 110\n",
      "            Annotation Version          :: 110\n",
      "            Annotation Pipeline         :: NCBI eukaryotic genome annotation\n",
      "                                           pipeline\n",
      "            Annotation Software Version :: 9.0\n",
      "            Annotation Method           :: Best-placed RefSeq; Gnomon\n",
      "            Features Annotated          :: Gene; mRNA; CDS; ncRNA\n",
      "            ##Genome-Annotation-Data-END##\n",
      "FEATURES             Location/Qualifiers\n",
      "     source          1..242193529\n",
      "                     /organism=\"Homo sapiens\"\n",
      "                     /mol_type=\"genomic DNA\"\n",
      "                     /db_xref=\"taxon:9606\"\n",
      "                     /chromosome=\"2\"\n",
      "CONTIG      join(gap(10000),NT_005334.17:1..16135119,gap(1000),\n",
      "            NT_022184.16:1..73184560,gap(200000),NT_187177.1:1..871832,\n",
      "            gap(1000000),NT_034508.3:1..735634,gap(50000),\n",
      "            NT_187178.1:1..1902412,gap(50000),NT_187179.1:1..152458,\n",
      "            gap(203000),NT_005403.18:1..147687514,gap(10000))\n",
      "//\n",
      "\n",
      "\n"
     ]
    }
   ],
   "source": [
    "from Bio import Entrez\n",
    "\n",
    "Entrez.email = \"grupo19@gmail.com\"\n",
    "\n",
    "handle = Entrez.efetch(db=\"nucleotide\", id=\"NC_000002.12\", rettype=\"gb\", retmode=\"text\")\n",
    "text = handle.read()\n",
    "print(text)"
   ]
  },
  {
   "cell_type": "markdown",
   "id": "f2cc21c7",
   "metadata": {},
   "source": [
    "Usando a sequência nucleotídica pretendida: NG_052839, usou-se o comando Entrez.efetch, novamente do Bio.Entrez package, que permite recuperar registros no formato solicitado, neste caso, GenBank. De seguida fez-se o print deste ficheiro em GenBank, representativo do gene GRB14 no organismo humano."
   ]
  },
  {
   "cell_type": "code",
   "execution_count": 11,
   "id": "2d8af146",
   "metadata": {},
   "outputs": [
    {
     "data": {
      "text/plain": [
       "<function TextIOWrapper.close()>"
      ]
     },
     "execution_count": 11,
     "metadata": {},
     "output_type": "execute_result"
    }
   ],
   "source": [
    "from Bio import SeqIO\n",
    "from Bio import Entrez\n",
    "\n",
    "Entrez.email=\"grupo19@gmail.com\"\n",
    "\n",
    "handle=Entrez.efetch(db=\"nucleotide\", id=\"NC_000002.12\", rettype=\"gb\", retmode=\"text\")\n",
    "record=SeqIO.read(handle,\"genbank\")\n",
    "handle.close"
   ]
  },
  {
   "cell_type": "code",
   "execution_count": 12,
   "id": "4e9329e6",
   "metadata": {},
   "outputs": [
    {
     "name": "stdout",
     "output_type": "stream",
     "text": [
      "O Id é: NC_000002.12\n",
      "O nome da sequência é: NC_000002\n",
      "O tamanho da sequência é: 242193529\n",
      "A descricao da sequência nucleotídica é: Homo sapiens chromosome 2, GRCh38.p14 Primary Assembly\n"
     ]
    }
   ],
   "source": [
    "from Bio import SeqIO\n",
    "from Bio import Entrez\n",
    "\n",
    "Entrez.email=\"grupo19@gmail.com\"\n",
    "\n",
    "Id=record.id\n",
    "print('O Id é:', Id)\n",
    "\n",
    "nome=record.name\n",
    "print('O nome da sequência é:',nome)\n",
    "\n",
    "sequencia=record.seq\n",
    "tamanho=len(sequencia)\n",
    "print('O tamanho da sequência é:', tamanho)\n",
    "\n",
    "descricao=record.description\n",
    "print('A descricao da sequência nucleotídica é:', descricao)"
   ]
  },
  {
   "cell_type": "markdown",
   "id": "af5c204f",
   "metadata": {},
   "source": [
    "Nesta parte retornou-se as anotações, ou seja, um dicionário que contém informações adicionais sobre a sequência. Desta forma, obteviram-se resultados para as anotações de interessse, nomeadamente, para o organismo, para a taxonomia, para o tipo de molécula, para a topologia, para o data file division, para a versão da sequência a, ainda, para a fonte. O código retorna, do dicionário, a chave correspondente."
   ]
  },
  {
   "cell_type": "code",
   "execution_count": 13,
   "id": "46fa4313",
   "metadata": {},
   "outputs": [
    {
     "name": "stdout",
     "output_type": "stream",
     "text": [
      "dict_keys(['molecule_type', 'topology', 'data_file_division', 'date', 'accessions', 'sequence_version', 'keywords', 'source', 'organism', 'taxonomy', 'references', 'comment', 'structured_comment', 'contig'])\n"
     ]
    }
   ],
   "source": [
    "#chaves do dicionário que forma as anotações\n",
    "chaves=record.annotations.keys()\n",
    "print(chaves)"
   ]
  },
  {
   "cell_type": "code",
   "execution_count": 14,
   "id": "83590dd8",
   "metadata": {},
   "outputs": [
    {
     "name": "stdout",
     "output_type": "stream",
     "text": [
      "O organismo é: Homo sapiens\n",
      "A taxonomia é: ['Eukaryota', 'Metazoa', 'Chordata', 'Craniata', 'Vertebrata', 'Euteleostomi', 'Mammalia', 'Eutheria', 'Euarchontoglires', 'Primates', 'Haplorrhini', 'Catarrhini', 'Hominidae', 'Homo']\n",
      "O tipo de molécula é: DNA\n",
      "A topologia é: linear\n",
      "A data file division é: CON\n",
      "A versão da sequencia é: 12\n",
      "A fonte é: Homo sapiens (human)\n"
     ]
    }
   ],
   "source": [
    "organismo=record.annotations[\"organism\"]\n",
    "print('O organismo é:', organismo)\n",
    "\n",
    "taxonomia=record.annotations[\"taxonomy\"]\n",
    "print('A taxonomia é:', taxonomia)\n",
    "\n",
    "tipo=record.annotations[\"molecule_type\"]\n",
    "print('O tipo de molécula é:', tipo)\n",
    "\n",
    "topologia=record.annotations[\"topology\"]\n",
    "print('A topologia é:', topologia)\n",
    "\n",
    "data= record.annotations[\"data_file_division\"]\n",
    "print ('A data file division é:', data)\n",
    "\n",
    "sequencia=record.annotations[\"sequence_version\"]\n",
    "print ('A versão da sequencia é:', sequencia)\n",
    "\n",
    "fonte=record.annotations[\"source\"]\n",
    "print ('A fonte é:', fonte)"
   ]
  },
  {
   "cell_type": "markdown",
   "id": "06dddaf0",
   "metadata": {},
   "source": [
    "4.Adicionalmente, de forma a extrair informações sobre as features, começa-se por extrair do ficheiro em formato GenBank a quantidade de features, com recurso ao len(record.features), a lista de features, o tipo de features e a localização de cada uma delas. Isto é possível recorrendo ao módulo Bio.SeqFeature, e ao SeqIO e Entrez, já apresentados anteriormente."
   ]
  },
  {
   "cell_type": "code",
   "execution_count": 15,
   "id": "c22ef5b6",
   "metadata": {},
   "outputs": [
    {
     "name": "stdout",
     "output_type": "stream",
     "text": [
      "[SeqFeature(FeatureLocation(ExactPosition(0), ExactPosition(242193529), strand=1), type='source')]\n"
     ]
    }
   ],
   "source": [
    "from Bio import SeqIO\n",
    "from Bio import Entrez\n",
    "from Bio import SeqFeature\n",
    "\n",
    "Entrez.email=\"grupo19@gmail.com\"\n",
    "\n",
    "features=record.features\n",
    "tipos_de_features=[]\n",
    "localizacao_das_features=[]\n",
    "for f in features:\n",
    "    localizacao_das_features.append(f.location)\n",
    "    if f.type in tipos_de_features:\n",
    "        f=+1\n",
    "    else:\n",
    "        tipos_de_features.append(f.type)\n",
    "        \n",
    "#lista de features\n",
    "print(features)\n"
   ]
  },
  {
   "cell_type": "code",
   "execution_count": 8,
   "id": "aab5694a",
   "metadata": {},
   "outputs": [
    {
     "name": "stdout",
     "output_type": "stream",
     "text": [
      "Os tipos de features são: ['source', 'gene', 'mRNA', 'exon', 'CDS', 'misc_feature']\n",
      "A localização das features é: [FeatureLocation(ExactPosition(0), ExactPosition(136445), strand=1), FeatureLocation(ExactPosition(5368), ExactPosition(134434), strand=1), CompoundLocation([FeatureLocation(ExactPosition(5368), ExactPosition(5732), strand=1), FeatureLocation(ExactPosition(7031), ExactPosition(7164), strand=1), FeatureLocation(ExactPosition(79034), ExactPosition(79191), strand=1), FeatureLocation(ExactPosition(99715), ExactPosition(99837), strand=1), FeatureLocation(ExactPosition(101772), ExactPosition(101847), strand=1), FeatureLocation(ExactPosition(104733), ExactPosition(104871), strand=1), FeatureLocation(ExactPosition(117998), ExactPosition(118109), strand=1), FeatureLocation(ExactPosition(118300), ExactPosition(118396), strand=1), FeatureLocation(ExactPosition(124515), ExactPosition(124596), strand=1), FeatureLocation(ExactPosition(129360), ExactPosition(129477), strand=1), FeatureLocation(ExactPosition(129567), ExactPosition(129640), strand=1), FeatureLocation(ExactPosition(129755), ExactPosition(129843), strand=1), FeatureLocation(ExactPosition(132326), ExactPosition(132420), strand=1), FeatureLocation(ExactPosition(133668), ExactPosition(134434), strand=1)], 'join'), FeatureLocation(ExactPosition(5368), ExactPosition(5732), strand=1), CompoundLocation([FeatureLocation(ExactPosition(5541), ExactPosition(5732), strand=1), FeatureLocation(ExactPosition(7031), ExactPosition(7164), strand=1), FeatureLocation(ExactPosition(79034), ExactPosition(79191), strand=1), FeatureLocation(ExactPosition(99715), ExactPosition(99837), strand=1), FeatureLocation(ExactPosition(101772), ExactPosition(101847), strand=1), FeatureLocation(ExactPosition(104733), ExactPosition(104871), strand=1), FeatureLocation(ExactPosition(117998), ExactPosition(118109), strand=1), FeatureLocation(ExactPosition(118300), ExactPosition(118396), strand=1), FeatureLocation(ExactPosition(124515), ExactPosition(124596), strand=1), FeatureLocation(ExactPosition(129360), ExactPosition(129477), strand=1), FeatureLocation(ExactPosition(129567), ExactPosition(129640), strand=1), FeatureLocation(ExactPosition(129755), ExactPosition(129843), strand=1), FeatureLocation(ExactPosition(132326), ExactPosition(132420), strand=1), FeatureLocation(ExactPosition(133668), ExactPosition(133815), strand=1)], 'join'), FeatureLocation(ExactPosition(5544), ExactPosition(5547), strand=1), FeatureLocation(ExactPosition(5565), ExactPosition(5568), strand=1), FeatureLocation(ExactPosition(129369), ExactPosition(129372), strand=1), FeatureLocation(ExactPosition(129378), ExactPosition(129381), strand=1), FeatureLocation(ExactPosition(7031), ExactPosition(7164), strand=1), FeatureLocation(ExactPosition(52830), ExactPosition(53110), strand=-1), FeatureLocation(ExactPosition(79034), ExactPosition(79191), strand=1), FeatureLocation(ExactPosition(99715), ExactPosition(99837), strand=1), FeatureLocation(ExactPosition(101772), ExactPosition(101847), strand=1), FeatureLocation(ExactPosition(104733), ExactPosition(104871), strand=1), FeatureLocation(ExactPosition(117998), ExactPosition(118109), strand=1), FeatureLocation(ExactPosition(118300), ExactPosition(118396), strand=1), FeatureLocation(ExactPosition(124515), ExactPosition(124596), strand=1), FeatureLocation(ExactPosition(129360), ExactPosition(129477), strand=1), FeatureLocation(ExactPosition(129567), ExactPosition(129640), strand=1), FeatureLocation(ExactPosition(129755), ExactPosition(129843), strand=1), FeatureLocation(ExactPosition(132326), ExactPosition(132420), strand=1), FeatureLocation(ExactPosition(133668), ExactPosition(134434), strand=1)]\n",
      "Existem 23 features\n"
     ]
    }
   ],
   "source": [
    "#tipos de features\n",
    "print('Os tipos de features são:', tipos_de_features)\n",
    "\n",
    "#posicao das features\n",
    "print('A localização das features é:', localizacao_das_features)\n",
    "\n",
    "#quantidade de features\n",
    "print('Existem', len(record.features), 'features') "
   ]
  },
  {
   "cell_type": "markdown",
   "id": "c9a04a7a",
   "metadata": {},
   "source": [
    "5.De seguida identifica-se as sequências codificantes associada a este registo recorrendo à lista de features e ao código seguinte. Através dos “qualifiers” associados, determinou-se ainda qual a proteína codificada e imprimiu-se a sequência da mesma."
   ]
  },
  {
   "cell_type": "code",
   "execution_count": 17,
   "id": "f4f77e0b",
   "metadata": {},
   "outputs": [
    {
     "name": "stdout",
     "output_type": "stream",
     "text": [
      "O id da proteína é ['NP_004481.2']\n",
      "A proteína codificada é ['growth factor receptor-bound protein 14 isoform 1']\n",
      "A sequência da proteína codificada é ['MTTSLQDGQSAASRAAARDSPLAAQVCGAAQGRGDAHDLAPAPWLHARALLPLPDGTRGCAADRRKKKDLDVPEMPSIPNPFPELCCSPFTSVLSADLFPKANSRKKQVIKVYSEDETSRALDVPSDITARDVCQLLILKNHYIDDHSWTLFEHLPHIGVERTIEDHELVIEVLSNWGIEEENKLYFRKNYAKYEFFKNPMYFFPEHMVSFATETNGEISPTQILQMFLSSSTYPEIHGFLHAKEQGKKSWKKIYFFLRRSGLYFSTKGTSKEPRHLQFFSEFGNSDIYVSLAGKKKHGAPTNYGFCFKPNKAGGPRDLKMLCAEEEQSRTCWVTAIRLLKYGMQLYQNYMHPYQGRSGCSSQSISPMRSISENSLVAMDFSGQKSRVIENPTEALSVAVEEGLAWRKKGCLRLGTHGSPTASSQSSATNMAIHRSQPWFHHKISRDEAQRLIIQQGLVDGVFLVRDSQSNPKTFVLSMSHGQKIKHFQIIPVEDDGEMFHTLDDGHTRFTDLIQLVEFYQLNKGVLPCKLKHYCARIAL']\n"
     ]
    }
   ],
   "source": [
    "from Bio import SeqIO\n",
    "from Bio import Entrez\n",
    "from Bio import SeqFeature\n",
    "\n",
    "Entrez.email=\"grupo19@gmail.com\"\n",
    "\n",
    "featcds=[]\n",
    "numero_cds=0\n",
    "\n",
    "for i in range(len(features)):\n",
    "    if features[i].type==\"CDS\":\n",
    "        featcds.append(i)\n",
    "        numero_cds+=1\n",
    "    for k in featcds:\n",
    "        id_proteina=features[k].qualifiers[\"protein_id\"]\n",
    "    for k in featcds:\n",
    "        produto=features[k].qualifiers[\"product\"] \n",
    "    for k in featcds:\n",
    "        translacao=features[k].qualifiers[\"translation\"]\n",
    "\n",
    "#qualifiers associados às sequências codificantes do registo do gene\n",
    "print('O id da proteína é',id_proteina)\n",
    "print('A proteína codificada é', produto) \n",
    "print('A sequência da proteína codificada é', translacao) "
   ]
  },
  {
   "cell_type": "markdown",
   "id": "396f84ab",
   "metadata": {},
   "source": [
    "6.Por fim, apresenta-se o número de genes anotados no registo da feature do tipo : “gene”."
   ]
  },
  {
   "cell_type": "code",
   "execution_count": 18,
   "id": "e4a2b3bf",
   "metadata": {},
   "outputs": [
    {
     "name": "stdout",
     "output_type": "stream",
     "text": [
      "O número de features do tipo gene é 0\n"
     ]
    }
   ],
   "source": [
    "n_genes=0\n",
    "feat_gene=[]\n",
    "for i in range(len(features)):\n",
    "    if features[i].type==\"gene\":\n",
    "        n_genes=+1\n",
    "        feat_gene.append(i)\n",
    "print('O número de features do tipo gene é', len(feat_gene))\n"
   ]
  }
 ],
 "metadata": {
  "kernelspec": {
   "display_name": "Python 3 (ipykernel)",
   "language": "python",
   "name": "python3"
  },
  "language_info": {
   "codemirror_mode": {
    "name": "ipython",
    "version": 3
   },
   "file_extension": ".py",
   "mimetype": "text/x-python",
   "name": "python",
   "nbconvert_exporter": "python",
   "pygments_lexer": "ipython3",
   "version": "3.9.13"
  }
 },
 "nbformat": 4,
 "nbformat_minor": 5
}
